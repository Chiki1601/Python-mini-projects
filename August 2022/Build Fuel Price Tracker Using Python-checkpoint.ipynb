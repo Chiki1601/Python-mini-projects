{
 "cells": [
  {
   "cell_type": "code",
   "execution_count": 1,
   "id": "e83b6a27",
   "metadata": {},
   "outputs": [
    {
     "name": "stdout",
     "output_type": "stream",
     "text": [
      "[<div class=\"gold_silver_table\">\n",
      "<table border=\"0\" cellpadding=\"1\" cellspacing=\"1\" width=\"100%\">\n",
      "<tr class=\"first\">\n",
      "<td class=\"heading\" width=\"200\">City</td>\n",
      "<td class=\"heading\" width=\"200\">Today Price</td>\n",
      "<td class=\"heading\" width=\"200\">Yesterday's Price</td>\n",
      "</tr>\n",
      "<tr class=\"even_row\">\n",
      "<td><a href=\"/petrol-price-in-new-delhi.html\" title=\"New Delhi\">New Delhi</a></td>\n",
      "<td> ₹ 101.19</td>\n",
      "<td> ₹ 101.19</td>\n",
      "</tr>\n",
      "<tr class=\"odd_row\">\n",
      "<td><a href=\"/petrol-price-in-kolkata.html\" title=\"Kolkata\">Kolkata</a></td>\n",
      "<td> ₹ 101.62</td>\n",
      "<td> ₹ 101.62</td>\n",
      "</tr>\n",
      "<tr class=\"even_row\">\n",
      "<td><a href=\"/petrol-price-in-mumbai.html\" title=\"Mumbai\">Mumbai</a></td>\n",
      "<td> ₹ 107.26</td>\n",
      "<td> ₹ 107.26</td>\n",
      "</tr>\n",
      "<tr class=\"odd_row\">\n",
      "<td><a href=\"/petrol-price-in-chennai.html\" title=\"Chennai\">Chennai</a></td>\n",
      "<td> ₹ 99.12</td>\n",
      "<td> ₹ 98.96</td>\n",
      "</tr>\n",
      "<tr class=\"even_row\">\n",
      "<td><a href=\"/petrol-price-in-gurgaon.html\" title=\"Gurgaon\">Gurgaon</a></td>\n",
      "<td> ₹ 98.94</td>\n",
      "<td> ₹ 98.67</td>\n",
      "</tr>\n",
      "<tr class=\"odd_row\">\n",
      "<td><a href=\"/petrol-price-in-noida.html\" title=\"Noida\">Noida</a></td>\n",
      "<td> ₹ 98.52</td>\n",
      "<td> ₹ 98.31</td>\n",
      "</tr>\n",
      "<tr class=\"even_row\">\n",
      "<td><a href=\"/petrol-price-in-bangalore.html\" title=\"Bangalore\">Bangalore</a></td>\n",
      "<td> ₹ 104.70</td>\n",
      "<td> ₹ 104.70</td>\n",
      "</tr>\n",
      "<tr class=\"odd_row\">\n",
      "<td><a href=\"/petrol-price-in-bhubaneswar.html\" title=\"Bhubaneswar\">Bhubaneswar</a></td>\n",
      "<td> ₹ 102.04</td>\n",
      "<td> ₹ 101.85</td>\n",
      "</tr>\n",
      "<tr class=\"even_row\">\n",
      "<td><a href=\"/petrol-price-in-chandigarh.html\" title=\"Chandigarh\">Chandigarh</a></td>\n",
      "<td> ₹ 97.40</td>\n",
      "<td> ₹ 97.40</td>\n",
      "</tr>\n",
      "<tr class=\"odd_row\">\n",
      "<td><a href=\"/petrol-price-in-hyderabad.html\" title=\"Hyderabad\">Hyderabad</a></td>\n",
      "<td> ₹ 105.26</td>\n",
      "<td> ₹ 105.26</td>\n",
      "</tr>\n",
      "<tr class=\"even_row\">\n",
      "<td><a href=\"/petrol-price-in-jaipur.html\" title=\"Jaipur\">Jaipur</a></td>\n",
      "<td> ₹ 108.14</td>\n",
      "<td> ₹ 108.40</td>\n",
      "</tr>\n",
      "<tr class=\"odd_row\">\n",
      "<td><a href=\"/petrol-price-in-lucknow.html\" title=\"Lucknow\">Lucknow</a></td>\n",
      "<td> ₹ 98.27</td>\n",
      "<td> ₹ 98.30</td>\n",
      "</tr>\n",
      "<tr class=\"even_row\">\n",
      "<td><a href=\"/petrol-price-in-patna.html\" title=\"Patna\">Patna</a></td>\n",
      "<td> ₹ 103.79</td>\n",
      "<td> ₹ 103.79</td>\n",
      "</tr>\n",
      "<tr class=\"odd_row\">\n",
      "<td><a href=\"/petrol-price-in-trivandrum.html\" title=\"Trivandrum\">Trivandrum</a></td>\n",
      "<td> ₹ 103.22</td>\n",
      "<td> ₹ 103.48</td>\n",
      "</tr>\n",
      "</table>\n",
      "</div>]\n"
     ]
    }
   ],
   "source": [
    "#Build Fuel Price Tracker Using Python\n",
    "# import module\n",
    "import pandas as pd\n",
    "import requests\n",
    "from bs4 import BeautifulSoup\n",
    "\n",
    "# user define function\n",
    "# Scrape the data\n",
    "def getdata(url):\n",
    "\tr = requests.get(url)\n",
    "\treturn r.text\n",
    "\n",
    "# link for extract html data\n",
    "htmldata = getdata(\"https://www.goodreturns.in/petrol-price.html\")\n",
    "soup = BeautifulSoup(htmldata, 'html.parser')\n",
    "result = soup.find_all(\"div\", class_=\"gold_silver_table\")\n",
    "print(result)\n"
   ]
  },
  {
   "cell_type": "code",
   "execution_count": 2,
   "id": "8a570450",
   "metadata": {},
   "outputs": [
    {
     "data": {
      "text/plain": [
       "[['City', 'Today Price', \"Yesterday's Price\"],\n",
       " ['New Delhi', ' ₹ 101.19', ' ₹ 101.19'],\n",
       " ['Kolkata', ' ₹ 101.62', ' ₹ 101.62'],\n",
       " ['Mumbai', ' ₹ 107.26', ' ₹ 107.26'],\n",
       " ['Chennai', ' ₹ 99.12', ' ₹ 98.96'],\n",
       " ['Gurgaon', ' ₹ 98.94', ' ₹ 98.67'],\n",
       " ['Noida', ' ₹ 98.52', ' ₹ 98.31'],\n",
       " ['Bangalore', ' ₹ 104.70', ' ₹ 104.70'],\n",
       " ['Bhubaneswar', ' ₹ 102.04', ' ₹ 101.85'],\n",
       " ['Chandigarh', ' ₹ 97.40', ' ₹ 97.40'],\n",
       " ['Hyderabad', ' ₹ 105.26', ' ₹ 105.26'],\n",
       " ['Jaipur', ' ₹ 108.14', ' ₹ 108.40'],\n",
       " ['Lucknow', ' ₹ 98.27', ' ₹ 98.30'],\n",
       " ['Patna', ' ₹ 103.79', ' ₹ 103.79'],\n",
       " ['Trivandrum', ' ₹ 103.22', ' ₹ 103.48'],\n",
       " ['State List for Petrol Rates in India'],\n",
       " ['Andaman & Nicobar', 'Andhra Pradesh', 'Arunachal Pradesh'],\n",
       " ['Assam', 'Bihar', 'Chandigarh'],\n",
       " ['Chhatisgarh', 'Dadra Nagarhaveli', 'Daman & Diu'],\n",
       " ['Delhi', 'Goa', 'Gujarat'],\n",
       " ['Haryana', 'Himachal Pradesh', 'Jammu & Kashmir'],\n",
       " ['Jharkhand', 'Karnataka', 'Kerala'],\n",
       " ['Madhya Pradesh', 'Maharashtra', 'Manipur']]"
      ]
     },
     "execution_count": 2,
     "metadata": {},
     "output_type": "execute_result"
    }
   ],
   "source": [
    "# Declare string var\n",
    "# Declare list\n",
    "mydatastr = ''\n",
    "result = []\n",
    "\n",
    "# searching all tr in the html data\n",
    "# storing as a string\n",
    "for table in soup.find_all('tr'):\n",
    "\tmydatastr += table.get_text()\n",
    "\n",
    "# set accourding to your required\n",
    "mydatastr = mydatastr[1:]\n",
    "itemlist = mydatastr.split(\"\\n\\n\")\n",
    "\n",
    "for item in itemlist[:-5]:\n",
    "\tresult.append(item.split(\"\\n\"))\n",
    "\n",
    "result\n"
   ]
  },
  {
   "cell_type": "code",
   "execution_count": 3,
   "id": "3ece93c6",
   "metadata": {},
   "outputs": [
    {
     "name": "stdout",
     "output_type": "stream",
     "text": [
      "Requirement already satisfied: geopy in c:\\users\\admin\\anaconda3\\anaconda3(1)\\new folder\\lib\\site-packages (2.2.0)\n",
      "Requirement already satisfied: geographiclib<2,>=1.49 in c:\\users\\admin\\anaconda3\\anaconda3(1)\\new folder\\lib\\site-packages (from geopy) (1.52)\n"
     ]
    }
   ],
   "source": [
    "!pip install geopy"
   ]
  },
  {
   "cell_type": "code",
   "execution_count": 5,
   "id": "b0cac166",
   "metadata": {},
   "outputs": [
    {
     "name": "stdout",
     "output_type": "stream",
     "text": [
      "Collecting folium\n",
      "  Downloading folium-0.12.1-py2.py3-none-any.whl (94 kB)\n",
      "Requirement already satisfied: numpy in c:\\users\\admin\\anaconda3\\anaconda3(1)\\new folder\\lib\\site-packages (from folium) (1.20.1)\n",
      "Requirement already satisfied: requests in c:\\users\\admin\\anaconda3\\anaconda3(1)\\new folder\\lib\\site-packages (from folium) (2.25.1)\n",
      "Collecting branca>=0.3.0\n",
      "  Downloading branca-0.4.2-py3-none-any.whl (24 kB)\n",
      "Requirement already satisfied: jinja2>=2.9 in c:\\users\\admin\\anaconda3\\anaconda3(1)\\new folder\\lib\\site-packages (from folium) (2.11.3)\n",
      "Requirement already satisfied: MarkupSafe>=0.23 in c:\\users\\admin\\anaconda3\\anaconda3(1)\\new folder\\lib\\site-packages (from jinja2>=2.9->folium) (1.1.1)\n",
      "Requirement already satisfied: certifi>=2017.4.17 in c:\\users\\admin\\anaconda3\\anaconda3(1)\\new folder\\lib\\site-packages (from requests->folium) (2020.12.5)\n",
      "Requirement already satisfied: urllib3<1.27,>=1.21.1 in c:\\users\\admin\\anaconda3\\anaconda3(1)\\new folder\\lib\\site-packages (from requests->folium) (1.26.4)\n",
      "Requirement already satisfied: chardet<5,>=3.0.2 in c:\\users\\admin\\anaconda3\\anaconda3(1)\\new folder\\lib\\site-packages (from requests->folium) (3.0.4)\n",
      "Requirement already satisfied: idna<3,>=2.5 in c:\\users\\admin\\anaconda3\\anaconda3(1)\\new folder\\lib\\site-packages (from requests->folium) (2.10)\n",
      "Installing collected packages: branca, folium\n",
      "Successfully installed branca-0.4.2 folium-0.12.1\n"
     ]
    }
   ],
   "source": [
    "!pip install folium"
   ]
  },
  {
   "cell_type": "code",
   "execution_count": null,
   "id": "f7807d9d",
   "metadata": {},
   "outputs": [],
   "source": []
  }
 ],
 "metadata": {
  "kernelspec": {
   "display_name": "Python 3",
   "language": "python",
   "name": "python3"
  },
  "language_info": {
   "codemirror_mode": {
    "name": "ipython",
    "version": 3
   },
   "file_extension": ".py",
   "mimetype": "text/x-python",
   "name": "python",
   "nbconvert_exporter": "python",
   "pygments_lexer": "ipython3",
   "version": "3.8.8"
  }
 },
 "nbformat": 4,
 "nbformat_minor": 5
}
