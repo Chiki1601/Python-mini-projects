{
 "cells": [
  {
   "cell_type": "code",
   "execution_count": 1,
   "id": "e9928038",
   "metadata": {},
   "outputs": [
    {
     "name": "stdout",
     "output_type": "stream",
     "text": [
      "what type of arithmetic operation you want to do?\n",
      "type + for addition\n",
      "type - for subtraction\n",
      "type / for division\n",
      "type* for multiplication\n",
      "\n",
      "+\n",
      "enter the first number\n",
      "5\n",
      "enter the second number\n",
      "\n",
      "16\n",
      "21\n"
     ]
    }
   ],
   "source": [
    "#faulty calculator using pyhon\n",
    "print(\"what type of arithmetic operation you want to do?\\n\"\n",
    "\t\"type + for addition\\n\"\n",
    "\t\"type - for subtraction\\n\"\n",
    "\t\"type / for division\\n\"\n",
    "\t\"type* for multiplication\\n\")\n",
    "\n",
    "\n",
    "# taking input\n",
    "type_of_calculation = input()\n",
    "\n",
    "print(\"enter the first number\")\n",
    "A = int(input())\n",
    "\n",
    "print(\"enter the second number\\n\")\n",
    "B = int(input())\n",
    "\n",
    "b = \"+\"\n",
    "c = \"-\"\n",
    "d = \"*\"\n",
    "e = \"/\"\n",
    "\n",
    "\n",
    "# setting normal and false condition for calculator\n",
    "if type_of_calculation == b:\n",
    "\t# for addition\n",
    "\tif (A == 53 and B == 9) or (A == 90 and B == 52):\n",
    "\t\tprint(97)\n",
    "\telse:\n",
    "\t\tprint(A+B)\n",
    "elif type_of_calculation == c:\n",
    "\n",
    "\t# for subtraction\n",
    "\tprint(A-B)\n",
    "elif type_of_calculation == d:\n",
    "\n",
    "\t# for multiplication\n",
    "\tif A == 45 and B == 3 or A == 4 and B == 67:\n",
    "\t\tprint(575)\n",
    "\telse:\n",
    "\t\tprint(A*B)\n",
    "elif type_of_calculation == e:\n",
    "\n",
    "\t# for division\n",
    "\tif A == 5 and B == 63:\n",
    "\t\tprint(40)\n",
    "\telse:\n",
    "\t\tprint(A/B)"
   ]
  },
  {
   "cell_type": "code",
   "execution_count": null,
   "id": "54194542",
   "metadata": {},
   "outputs": [],
   "source": []
  }
 ],
 "metadata": {
  "kernelspec": {
   "display_name": "Python 3",
   "language": "python",
   "name": "python3"
  },
  "language_info": {
   "codemirror_mode": {
    "name": "ipython",
    "version": 3
   },
   "file_extension": ".py",
   "mimetype": "text/x-python",
   "name": "python",
   "nbconvert_exporter": "python",
   "pygments_lexer": "ipython3",
   "version": "3.8.8"
  }
 },
 "nbformat": 4,
 "nbformat_minor": 5
}
