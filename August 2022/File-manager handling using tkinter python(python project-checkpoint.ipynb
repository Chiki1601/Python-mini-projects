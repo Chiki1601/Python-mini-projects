{
 "cells": [
  {
   "cell_type": "code",
   "execution_count": 3,
   "metadata": {},
   "outputs": [
    {
     "name": "stdout",
     "output_type": "stream",
     "text": [
      "Collecting easygui\n",
      "  Downloading easygui-0.98.2-py2.py3-none-any.whl (92 kB)\n",
      "Installing collected packages: easygui\n",
      "Successfully installed easygui-0.98.2\n"
     ]
    }
   ],
   "source": [
    "!pip install easygui"
   ]
  },
  {
   "cell_type": "code",
   "execution_count": 5,
   "metadata": {},
   "outputs": [
    {
     "name": "stderr",
     "output_type": "stream",
     "text": [
      "ERROR: Could not find a version that satisfies the requirement PIL (from versions: none)\n",
      "ERROR: No matching distribution found for PIL\n"
     ]
    }
   ],
   "source": [
    "!pip install PIL"
   ]
  },
  {
   "cell_type": "code",
   "execution_count": 8,
   "metadata": {},
   "outputs": [],
   "source": [
    "#File-manager handling using tkinter python\n",
    "from tkinter import *\n",
    "from PIL import ImageTk, Image\n",
    "import shutil         \n",
    "import os\n",
    "import easygui\n",
    "from tkinter import filedialog\n",
    "from tkinter import messagebox as mb\n",
    "\n",
    "# Major functions of file manager\n",
    "\n",
    "# open a file box window \n",
    "# when we want to select a file\n",
    "def open_window():\n",
    "    read=easygui.fileopenbox()\n",
    "    return read\n",
    "\n",
    "# open file function\n",
    "def open_file():\n",
    "    string = open_window()\n",
    "    try:\n",
    "        os.startfile(string)\n",
    "    except:\n",
    "        mb.showinfo('confirmation', \"File not found!\")\n",
    "\n",
    "# copy file function\n",
    "def copy_file():\n",
    "    source1 = open_window()\n",
    "    destination1=filedialog.askdirectory()\n",
    "    shutil.copy(source1,destination1)\n",
    "    mb.showinfo('confirmation', \"File Copied !\")\n",
    "\n",
    "# delete file function\n",
    "def delete_file():\n",
    "    del_file = open_window()\n",
    "    if os.path.exists(del_file):\n",
    "        os.remove(del_file)             \n",
    "    else:\n",
    "        mb.showinfo('confirmation', \"File not found !\")\n",
    "\n",
    "# rename file function\n",
    "def rename_file():\n",
    "    chosenFile = open_window()\n",
    "    path1 = os.path.dirname(chosenFile)\n",
    "    extension=os.path.splitext(chosenFile)[1]\n",
    "    print(\"Enter new name for the chosen file\")\n",
    "    newName=input()\n",
    "    path = os.path.join(path1, newName+extension)\n",
    "    print(path)\n",
    "    os.rename(chosenFile,path) \n",
    "    mb.showinfo('confirmation', \"File Renamed !\")\n",
    "\n",
    "# move file function\n",
    "def move_file():\n",
    "    source = open_window()\n",
    "    destination =filedialog.askdirectory()\n",
    "    if(source==destination):\n",
    "        mb.showinfo('confirmation', \"Source and destination are same\")\n",
    "    else:\n",
    "        shutil.move(source, destination)  \n",
    "        mb.showinfo('confirmation', \"File Moved !\")\n",
    "\n",
    "# function to make a new folder\n",
    "def make_folder():\n",
    "    newFolderPath = filedialog.askdirectory()\n",
    "    print(\"Enter name of new folder\")\n",
    "    newFolder=input()\n",
    "    path = os.path.join(newFolderPath, newFolder)  \n",
    "    os.mkdir(path)\n",
    "    mb.showinfo('confirmation', \"Folder created !\")\n",
    "\n",
    "# function to remove a folder\n",
    "def remove_folder():\n",
    "    delFolder = filedialog.askdirectory()\n",
    "    os.rmdir(delFolder)\n",
    "    mb.showinfo('confirmation', \"Folder Deleted !\")\n",
    "\n",
    "# function to list all the files in folder\n",
    "def list_files():\n",
    "    folderList = filedialog.askdirectory()\n",
    "    sortlist=sorted(os.listdir(folderList))       \n",
    "    i=0\n",
    "    print(\"Files in \", folderList, \"folder are:\")\n",
    "    while(i<len(sortlist)):\n",
    "        print(sortlist[i]+'\\n')\n",
    "        i+=1\n",
    "    \n",
    "\n",
    "#Creating the UI of our file manager\n",
    "\n",
    "root = Tk()\n",
    "\n",
    "# creating label and buttons to perform operations\n",
    "Label(root, text=\"Pooja's File Manager\", font=(\"Helvetica\", 16), fg=\"blue\").grid(row = 5, column = 2)\n",
    "\n",
    "Button(root, text = \"Open a File\", command = open_file).grid(row=15, column =2)\n",
    "\n",
    "Button(root, text = \"Copy a File\", command = copy_file).grid(row = 25, column = 2)\n",
    "\n",
    "Button(root, text = \"Delete a File\", command = delete_file).grid(row = 35, column = 2)\n",
    "\n",
    "Button(root, text = \"Rename a File\", command = rename_file).grid(row = 45, column = 2)\n",
    "\n",
    "Button(root, text = \"Move a File\", command = move_file).grid(row = 55, column =2)\n",
    "\n",
    "Button(root, text = \"Make a Folder\", command = make_folder).grid(row = 75, column = 2)\n",
    "\n",
    "Button(root, text = \"Remove a Folder\", command = remove_folder).grid(row = 65, column =2)\n",
    "\n",
    "Button(root, text = \"List all Files in Directory\", command = list_files).grid(row = 85,column = 2)\n",
    "\n",
    "\n",
    "\n",
    "root.mainloop()"
   ]
  },
  {
   "cell_type": "code",
   "execution_count": null,
   "metadata": {},
   "outputs": [],
   "source": []
  },
  {
   "cell_type": "code",
   "execution_count": null,
   "metadata": {},
   "outputs": [],
   "source": []
  }
 ],
 "metadata": {
  "kernelspec": {
   "display_name": "Python 3",
   "language": "python",
   "name": "python3"
  },
  "language_info": {
   "codemirror_mode": {
    "name": "ipython",
    "version": 3
   },
   "file_extension": ".py",
   "mimetype": "text/x-python",
   "name": "python",
   "nbconvert_exporter": "python",
   "pygments_lexer": "ipython3",
   "version": "3.8.5"
  }
 },
 "nbformat": 4,
 "nbformat_minor": 4
}
