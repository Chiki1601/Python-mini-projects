{
 "cells": [
  {
   "cell_type": "code",
   "execution_count": 1,
   "id": "92d6ca85",
   "metadata": {},
   "outputs": [
    {
     "data": {
      "text/plain": [
       "'hɛˈloʊ pooja*'"
      ]
     },
     "execution_count": 1,
     "metadata": {},
     "output_type": "execute_result"
    }
   ],
   "source": [
    "#Convert English text into the Phonetics using Python\n",
    "\n",
    "import eng_to_ipa as p\n",
    "\n",
    "\n",
    "p.convert(\"Hello Pooja\")\n"
   ]
  },
  {
   "cell_type": "code",
   "execution_count": 2,
   "id": "3d23c520",
   "metadata": {},
   "outputs": [
    {
     "name": "stdout",
     "output_type": "stream",
     "text": [
      "Collecting eng_to_ipa\n",
      "  Using cached eng_to_ipa-0.0.2-py3-none-any.whl\n",
      "Installing collected packages: eng-to-ipa\n",
      "Successfully installed eng-to-ipa-0.0.2\n"
     ]
    }
   ],
   "source": [
    "!pip install eng_to_ipa"
   ]
  },
  {
   "cell_type": "code",
   "execution_count": 2,
   "id": "20febf1e",
   "metadata": {},
   "outputs": [
    {
     "data": {
      "text/plain": [
       "[['jɛs'], ['aɪ'], ['eɪɛm', 'æm'], ['pooja*,'], ['haʊ'], ['ɑr', 'ər'], ['ju']]"
      ]
     },
     "execution_count": 2,
     "metadata": {},
     "output_type": "execute_result"
    }
   ],
   "source": [
    "p.ipa_list(\"Yes i am Pooja, How are you\")"
   ]
  },
  {
   "cell_type": "code",
   "execution_count": 4,
   "id": "46e26207",
   "metadata": {},
   "outputs": [
    {
     "data": {
      "text/plain": [
       "['antiques',\n",
       " 'batiks',\n",
       " 'beeks',\n",
       " \"belgique's\",\n",
       " 'bespeaks',\n",
       " 'boutiques',\n",
       " \"creek's\",\n",
       " 'creeks',\n",
       " 'critiques',\n",
       " \"deak's\",\n",
       " 'eakes',\n",
       " 'freaks',\n",
       " 'geeks',\n",
       " 'greeks',\n",
       " 'leaks',\n",
       " 'leeks',\n",
       " 'meeks',\n",
       " 'peakes',\n",
       " \"peakes'\",\n",
       " 'peaks',\n",
       " \"peaks'\",\n",
       " 'peeks',\n",
       " 'reeks',\n",
       " 'seeks',\n",
       " 'seix',\n",
       " 'sheeks',\n",
       " \"sheik's\",\n",
       " 'sheiks',\n",
       " 'shrieks',\n",
       " 'sikhs',\n",
       " 'sneaks',\n",
       " 'speakes',\n",
       " 'speaks',\n",
       " 'squeaks',\n",
       " 'streaks',\n",
       " 'techniques',\n",
       " 'telephoniques',\n",
       " 'tweaks',\n",
       " 'weaks',\n",
       " \"week's\",\n",
       " 'weekes',\n",
       " 'weeks',\n",
       " \"weeks'\",\n",
       " 'wreaks']"
      ]
     },
     "execution_count": 4,
     "metadata": {},
     "output_type": "execute_result"
    }
   ],
   "source": [
    "p.get_rhymes(\"Cheeks\")\n"
   ]
  },
  {
   "cell_type": "code",
   "execution_count": null,
   "id": "f411a033",
   "metadata": {},
   "outputs": [],
   "source": []
  }
 ],
 "metadata": {
  "kernelspec": {
   "display_name": "Python 3",
   "language": "python",
   "name": "python3"
  },
  "language_info": {
   "codemirror_mode": {
    "name": "ipython",
    "version": 3
   },
   "file_extension": ".py",
   "mimetype": "text/x-python",
   "name": "python",
   "nbconvert_exporter": "python",
   "pygments_lexer": "ipython3",
   "version": "3.8.8"
  }
 },
 "nbformat": 4,
 "nbformat_minor": 5
}
