{
 "cells": [
  {
   "cell_type": "code",
   "execution_count": 2,
   "id": "10ee6393",
   "metadata": {},
   "outputs": [
    {
     "name": "stdout",
     "output_type": "stream",
     "text": [
      "Zipcode: 382350\n",
      "Details of the Zipcode:\n",
      "Ahmedabad City Taluka, Ahmedabad District, Gujarat, 382350, India\n"
     ]
    }
   ],
   "source": [
    "# Importing required module\n",
    "from geopy.geocoders import Nominatim\n",
    "\n",
    "# Using Nominatim Api\n",
    "geolocator = Nominatim(user_agent=\"geoapiExercises\")\n",
    "\n",
    "# Zipocde input\n",
    "zipcode = \"382350\"\n",
    "\n",
    "# Using geocode()\n",
    "location = geolocator.geocode(zipcode)\n",
    "\n",
    "# Displaying address details\n",
    "print(\"Zipcode:\",zipcode)\n",
    "print(\"Details of the Zipcode:\")\n",
    "print(location)"
   ]
  },
  {
   "cell_type": "code",
   "execution_count": 1,
   "id": "a5432422",
   "metadata": {},
   "outputs": [
    {
     "name": "stdout",
     "output_type": "stream",
     "text": [
      "Zipcode: 800011\n",
      "Details of the Zipcode:\n",
      "Shankargarh Tahsil, Balrampur, Chhattisgarh, 800011, India\n"
     ]
    }
   ],
   "source": [
    "# Importing required module\n",
    "from geopy.geocoders import Nominatim\n",
    "\n",
    "# Using Nominatim Api\n",
    "geolocator = Nominatim(user_agent=\"geoapiExercises\")\n",
    "\n",
    "# Zipocde input\n",
    "zipcode = \"800011\"\n",
    "\n",
    "# Using geocode()\n",
    "location = geolocator.geocode(zipcode)\n",
    "\n",
    "# Displaying address details\n",
    "print(\"Zipcode:\",zipcode)\n",
    "print(\"Details of the Zipcode:\")\n",
    "print(location)"
   ]
  },
  {
   "cell_type": "code",
   "execution_count": 3,
   "id": "9ef0b7eb",
   "metadata": {},
   "outputs": [],
   "source": [
    "# Importing required modules\n",
    "from geopy.geocoders import Nominatim\n",
    "from tkinter import *\n",
    "\n",
    "\n",
    "\n",
    "# Funtion to get zipcode input\n",
    "def zip_code():\n",
    "\ttry:\t\t\n",
    "\t\tgeolocator = Nominatim(user_agent=\"geoapiExercises\")\n",
    "\t\tzipcode = str(e.get())\n",
    "\t\tlocation = geolocator.geocode(zipcode)\n",
    "\t\tres.set(location.address)\n",
    "\t\n",
    "\texcept:\n",
    "\t\tlocation = \"Oops! something went wrong\"\n",
    "\t\tres.set(location)\n",
    "\n",
    "\t\t\n",
    "\n",
    "# Creating tkinter object\n",
    "# and background set for light grey\n",
    "master = Tk()\n",
    "master.configure(bg='light grey')\n",
    "\n",
    "\n",
    "\n",
    "# Variable Classes in tkinter\n",
    "res = StringVar();\n",
    "\n",
    "\n",
    "\n",
    "# Creating label for each information\n",
    "Label(master, text=\"Zipcode: \" , bg = \"light grey\").grid(row=0, sticky=W)\n",
    "Label(master, text=\"Details of the pincode:\", bg = \"light grey\").grid(row=3, sticky=W)\n",
    "\n",
    "\n",
    "\n",
    "# Creating label for class variable\n",
    "Label(master, text=\"\", textvariable=res,bg = \"light grey\").grid(row=3,column=1, sticky=W)\n",
    "\n",
    "\n",
    "\n",
    "e = Entry(master)\n",
    "e.grid(row=0, column=1)\n",
    "\n",
    "# Creating a button using the widget\n",
    "# Button that will call the submit function\n",
    "b = Button(master, text=\"Show\", command=zip_code )\n",
    "b.grid(row=0, column=2,columnspan=2, rowspan=2,padx=5, pady=5)\n",
    "\n",
    "mainloop()"
   ]
  },
  {
   "cell_type": "code",
   "execution_count": null,
   "id": "30badc94",
   "metadata": {},
   "outputs": [],
   "source": []
  }
 ],
 "metadata": {
  "kernelspec": {
   "display_name": "Python 3",
   "language": "python",
   "name": "python3"
  },
  "language_info": {
   "codemirror_mode": {
    "name": "ipython",
    "version": 3
   },
   "file_extension": ".py",
   "mimetype": "text/x-python",
   "name": "python",
   "nbconvert_exporter": "python",
   "pygments_lexer": "ipython3",
   "version": "3.8.8"
  }
 },
 "nbformat": 4,
 "nbformat_minor": 5
}
