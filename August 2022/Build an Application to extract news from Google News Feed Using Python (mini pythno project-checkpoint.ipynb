{
 "cells": [
  {
   "cell_type": "code",
   "execution_count": 4,
   "id": "fab71d0b",
   "metadata": {},
   "outputs": [
    {
     "data": {
      "text/plain": [
       "[{'title': 'Sansera Engineering IPO: इश्यू 14 सितंबर को लॉन्च होगा, निवेश से पहले जानिए GMP सहित हर जरूर बात - मनी कंट्रोल',\n",
       "  'link': 'https://news.google.com/__i/rss/rd/articles/CBMijQFodHRwczovL2hpbmRpLm1vbmV5Y29udHJvbC5jb20vbmV3cy9pcG8vc2Fuc2VyYS1lbmdpbmVlcmluZy1pcG8tdG8tLWxhdW5jaC1zZXB0ZW1iZXItMTQta25vdy1wcmljZS1iYW5kLWFuZC1nbXAtc2hvdWxkLXlvdS1pbnZlc3RfMjgxNjQ5Lmh0bWzSAQA?oc=5',\n",
       "  'media': None},\n",
       " {'title': 'Gold-Silver Price Today: सस्ता हुआ सोना, चांदी की कीमत में भारी गिरावट, जानें आज का रेट - Aaj Tak',\n",
       "  'link': 'https://news.google.com/__i/rss/rd/articles/CBMiqgFodHRwczovL3d3dy5hYWp0YWsuaW4vYnVzaW5lc3MvbmV3cy9zdG9yeS9nb2xkLXNpbHZlci1wcmljZS1kb3duLXRvZGF5LTEzLXNlcHRlbWJlci0yMDIxLWluZGlhbi1tYXJrZXQtZ29sZC1zaWx2ZXItcmF0ZS1pYmphcmF0ZXMtY29tLWJ1bGxpb24tcmF0ZS1sYnNiLTEzMjU4MzctMjAyMS0wOS0xM9IBAA?oc=5',\n",
       "  'media': None},\n",
       " {'title': 'पेट्रोल, डीजल की कीमतों में एक सप्ताह से कोई बदलाव नहीं, देखें तस्वीरें - India.com हिंदी',\n",
       "  'link': 'https://news.google.com/__i/rss/rd/articles/CBMiaWh0dHBzOi8vd3d3LmluZGlhLmNvbS9oaW5kaS1uZXdzL2dhbGxlcnktaGluZGkvbm8tY2hhbmdlLWluLXBldHJvbC1hbmQtZGllc2VsLXByaWNlcy1pbi1vbmUtd2Vlay00OTUzNDgwL9IBbWh0dHBzOi8vd3d3LmluZGlhLmNvbS9oaW5kaS1uZXdzL2dhbGxlcnktaGluZGkvbm8tY2hhbmdlLWluLXBldHJvbC1hbmQtZGllc2VsLXByaWNlcy1pbi1vbmUtd2Vlay00OTUzNDgwL2FtcC8?oc=5',\n",
       "  'media': None},\n",
       " {'title': 'जेट एयरवेज ढाई साल बाद फिर भरेगी उड़ान, घाटे के चलते बंद हो गई थी एयरलाइन - NDTV India',\n",
       "  'link': 'https://news.google.com/__i/rss/rd/articles/CBMifWh0dHBzOi8vbmR0di5pbi9pbmRpYS1uZXdzL2pldC1haXJ3YXlzLXdpbGwtZmx5LWFnYWluLWFmdGVyLXR3by1hbmQtYS1oYWxmLXllYXJzLXRoZS1haXJsaW5lLXdhcy1jbG9zZWQtZHVlLXRvLWxvc3Nlcy0yNTM4OTU00gEA?oc=5',\n",
       "  'media': None},\n",
       " {'title': '‘आधार शिला’: महिलाओं के लिए LIC की विशेष बीमा योजना, रोजाना 29 रुपए जमा करने पर कितने लाख मिलेंगे - News18 हिंदी',\n",
       "  'link': 'https://news.google.com/__i/rss/rd/articles/CBMirAFodHRwczovL2hpbmRpLm5ld3MxOC5jb20vbmV3cy9idXNpbmVzcy9hYWRoYWFyc2hpbGEtbGljLXNwZWNpYWwtaW5zdXJhbmNlLXNjaGVtZS1mb3Itd29tZW4taG93LW1hbnktbGFraHMtd2lsbC1iZS1hdmFpbGFibGUtb24tZGVwb3NpdGluZy0yOS1ydXBlZXMtZGFpbHktcG1na3AtMzczOTAzOS5odG1s0gEA?oc=5',\n",
       "  'media': None}]"
      ]
     },
     "execution_count": 4,
     "metadata": {},
     "output_type": "execute_result"
    }
   ],
   "source": [
    "#Build an Application to extract news from Google News Feed Using Python\n",
    "\n",
    "# import module\n",
    "from gnewsclient import gnewsclient\n",
    "# declare a NewsClient object\n",
    "client = gnewsclient.NewsClient(language='hindi', location='india', topic='Business', max_results=5)\n",
    "# get news feed\n",
    "client.get_news()"
   ]
  },
  {
   "cell_type": "code",
   "execution_count": 5,
   "id": "58726069",
   "metadata": {},
   "outputs": [
    {
     "name": "stdout",
     "output_type": "stream",
     "text": [
      "Location: \n",
      " ['Australia', 'Botswana', 'Canada ', 'Ethiopia', 'Ghana', 'India ', 'Indonesia', 'Ireland', 'Israel ', 'Kenya', 'Latvia', 'Malaysia', 'Namibia', 'New Zealand', 'Nigeria', 'Pakistan', 'Philippines', 'Singapore', 'South Africa', 'Tanzania', 'Uganda', 'United Kingdom', 'United States', 'Zimbabwe', 'Czech Republic', 'Germany', 'Austria', 'Switzerland', 'Argentina', 'Chile', 'Colombia', 'Cuba', 'Mexico', 'Peru', 'Venezuela', 'Belgium ', 'France', 'Morocco', 'Senegal', 'Italy', 'Lithuania', 'Hungary', 'Netherlands', 'Norway', 'Poland', 'Brazil', 'Portugal', 'Romania', 'Slovakia', 'Slovenia', 'Sweden', 'Vietnam', 'Turkey', 'Greece', 'Bulgaria', 'Russia', 'Ukraine ', 'Serbia', 'United Arab Emirates', 'Saudi Arabia', 'Lebanon', 'Egypt', 'Bangladesh', 'Thailand', 'China', 'Taiwan', 'Hong Kong', 'Japan', 'Republic of Korea']\n",
      "\n",
      "Language \n",
      " ['english', 'indonesian', 'czech', 'german', 'spanish', 'french', 'italian', 'latvian', 'lithuanian', 'hungarian', 'dutch', 'norwegian', 'polish', 'portuguese brasil', 'portuguese portugal', 'romanian', 'slovak', 'slovenian', 'swedish', 'vietnamese', 'turkish', 'greek', 'bulgarian', 'russian', 'serbian', 'ukrainian', 'hebrew', 'arabic', 'marathi', 'hindi', 'bengali', 'tamil', 'telugu', 'malyalam', 'thai', 'chinese simplified', 'chinese traditional', 'japanese', 'korean']\n",
      "\n",
      "Topic \n",
      " ['Top Stories', 'World', 'Nation', 'Business', 'Technology', 'Entertainment', 'Sports', 'Science', 'Health']\n"
     ]
    }
   ],
   "source": [
    "import gnewsclient\n",
    "from gnewsclient import gnewsclient\n",
    "\n",
    "client = gnewsclient.NewsClient(language='hindi',\n",
    "\t\t\t\t\t\t\t\tlocation='india',\n",
    "\t\t\t\t\t\t\t\ttopic='Business',\n",
    "\t\t\t\t\t\t\t\tmax_results=5)\n",
    "\n",
    "# prints location\n",
    "print(\"Location: \\n\",client.locations)\n",
    "print()\n",
    "\n",
    "# prints languages\n",
    "print(\"Language \\n\",client.languages)\n",
    "print()\n",
    "\n",
    "# prints topics\n",
    "print(\"Topic \\n\",client.topics)\n"
   ]
  },
  {
   "cell_type": "code",
   "execution_count": 6,
   "id": "d1b59e74",
   "metadata": {},
   "outputs": [
    {
     "name": "stdout",
     "output_type": "stream",
     "text": [
      "Title :  'Virat Kohli e-mailed the BCCI at midnight': David Gower claims Indian players 'hightailed' out of England for IPL - Hindustan Times\n",
      "Link :  https://news.google.com/__i/rss/rd/articles/CBMiqgFodHRwczovL3d3dy5oaW5kdXN0YW50aW1lcy5jb20vY3JpY2tldC92aXJhdC1rb2hsaS1lLW1haWxlZC10aGUtYmNjaS1hdC1taWRuaWdodC1kYXZpZC1nb3dlci1jbGFpbXMtaW5kaWFuLXBsYXllcnMtaGlnaC10YWlsZWQtb3V0LW9mLWVuZ2xhbmQtZm9yLWlwbC0xMDE2MzE1MTUzMjUzNDkuaHRtbNIBAA?oc=5\n",
      "\n",
      "Title :  Novak Djokovic's Grand Slam bid foiled as Daniil Medvedev wins US Open - Economic Times\n",
      "Link :  https://news.google.com/__i/rss/rd/articles/CBMijwFodHRwczovL2Vjb25vbWljdGltZXMuaW5kaWF0aW1lcy5jb20vbmV3cy9zcG9ydHMvbm92YWstZGpva292aWNzLWdyYW5kLXNsYW0tYmlkLWZvaWxlZC1hcy1kYW5paWwtbWVkdmVkZXYtd2lucy11cy1vcGVuL2FydGljbGVzaG93Lzg2MTU1Nzk2LmNtc9IBigFodHRwczovL20uZWNvbm9taWN0aW1lcy5jb20vbmV3cy9zcG9ydHMvbm92YWstZGpva292aWNzLWdyYW5kLXNsYW0tYmlkLWZvaWxlZC1hcy1kYW5paWwtbWVkdmVkZXYtd2lucy11cy1vcGVuL2FtcF9hcnRpY2xlc2hvdy84NjE1NTc5Ni5jbXM?oc=5\n",
      "\n",
      "Title :  Matthew Hayden, Vernon Philander to coach Pakistan for T20 World Cup - The Indian Express\n",
      "Link :  https://news.google.com/__i/rss/rd/articles/CBMidmh0dHBzOi8vaW5kaWFuZXhwcmVzcy5jb20vYXJ0aWNsZS9zcG9ydHMvY3JpY2tldC9tYXR0aGV3LWhheWRlbi12ZXJub24tcGhpbGFuZGVyLWNvYWNoLXBha2lzdGFuLXQyMC13b3JsZC1jdXAtNzUwNTk4My_SAQA?oc=5\n",
      "\n"
     ]
    }
   ],
   "source": [
    "from gnewsclient import gnewsclient\n",
    "\n",
    "client = gnewsclient.NewsClient(language='english',\n",
    "\t\t\t\t\t\t\t\tlocation='india',\n",
    "\t\t\t\t\t\t\t\ttopic='sports',\n",
    "\t\t\t\t\t\t\t\tmax_results=3)\n",
    "\n",
    "news_list = client.get_news()\n",
    "\n",
    "for item in news_list:\n",
    "\tprint(\"Title : \", item['title'])\n",
    "\tprint(\"Link : \", item['link'])\n",
    "\tprint(\"\")\n"
   ]
  },
  {
   "cell_type": "code",
   "execution_count": 7,
   "id": "20dad151",
   "metadata": {},
   "outputs": [],
   "source": [
    "# import modules\n",
    "from tkinter import *\n",
    "from gnewsclient import gnewsclient\n",
    "\n",
    "# defined funtions\n",
    "def news():\n",
    "\tclient = gnewsclient.NewsClient(\n",
    "\t\tlanguage=lang.get(), location=loc.get(), topic=top.get(), max_results=3)\n",
    "\tnews_list = client.get_news()\n",
    "\tresult_title.set(news_list[0][\"title\"] + \"\\n\" +\n",
    "\t\t\t\t\tnews_list[1][\"title\"] + \"\\n\" + news_list[2][\"title\"])\n",
    "\n",
    "\n",
    "# tkinter object\n",
    "master = Tk()\n",
    "master.title(\"NEWS\")\n",
    "\n",
    "# background set to grey\n",
    "master.configure(bg='light grey')\n",
    "\n",
    "# Variable Classes in tkinter\n",
    "result_title = StringVar()\n",
    "result_link = StringVar()\n",
    "\n",
    "# Creating label for each information\n",
    "# name using widget Label\n",
    "Label(master, text=\"Choose language :\", bg=\"light grey\").grid(row=0, sticky=W)\n",
    "Label(master, text=\"Choose Location :\", bg=\"light grey\").grid(row=1, sticky=W)\n",
    "Label(master, text=\"Choose Topic :\", bg=\"light grey\").grid(row=2, sticky=W)\n",
    "\n",
    "\n",
    "lang = Entry(master)\n",
    "lang.grid(row=0, column=1)\n",
    "\n",
    "loc = Entry(master)\n",
    "loc.grid(row=1, column=1)\n",
    "\n",
    "top = Entry(master)\n",
    "top.grid(row=2, column=1)\n",
    "\n",
    "\n",
    "# Creating lebel for class variable\n",
    "# name using widget Entry\n",
    "Label(master, text=\"\", textvariable=result_title,\n",
    "\tbg=\"light grey\").grid(row=3, column=1, sticky=W)\n",
    "\n",
    "# creating a button using the widget\n",
    "# Button to call the submit function\n",
    "Button(master, text=\"SHOW\", command=news, bg=\"white\").grid(row=1, column=3)\n",
    "\n",
    "\n",
    "mainloop()\n"
   ]
  },
  {
   "cell_type": "code",
   "execution_count": null,
   "id": "b0e9747e",
   "metadata": {},
   "outputs": [],
   "source": []
  }
 ],
 "metadata": {
  "kernelspec": {
   "display_name": "Python 3",
   "language": "python",
   "name": "python3"
  },
  "language_info": {
   "codemirror_mode": {
    "name": "ipython",
    "version": 3
   },
   "file_extension": ".py",
   "mimetype": "text/x-python",
   "name": "python",
   "nbconvert_exporter": "python",
   "pygments_lexer": "ipython3",
   "version": "3.8.8"
  }
 },
 "nbformat": 4,
 "nbformat_minor": 5
}
